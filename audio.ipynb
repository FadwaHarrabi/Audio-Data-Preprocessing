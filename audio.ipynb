{
 "cells": [
  {
   "cell_type": "code",
   "execution_count": 4,
   "metadata": {},
   "outputs": [],
   "source": [
    "from pydub.playback import play\n",
    "from pydub import AudioSegment"
   ]
  },
  {
   "cell_type": "code",
   "execution_count": 20,
   "metadata": {},
   "outputs": [
    {
     "name": "stdout",
     "output_type": "stream",
     "text": [
      "MoviePy - Writing audio in Hello_Song.wav\n"
     ]
    },
    {
     "name": "stderr",
     "output_type": "stream",
     "text": [
      "                                                                      "
     ]
    },
    {
     "name": "stdout",
     "output_type": "stream",
     "text": [
      "MoviePy - Done.\n"
     ]
    },
    {
     "name": "stderr",
     "output_type": "stream",
     "text": [
      "\r"
     ]
    }
   ],
   "source": [
    "from moviepy.editor import VideoFileClip\n",
    "\n",
    "# Load the video file\n",
    "video = VideoFileClip(\"this is my family.mp4\")\n",
    "# Extract the audio from the video\n",
    "audio = video.audio\n",
    "# Save the audio as a WAV file\n",
    "audio.write_audiofile(\"Hello_Song.wav\", codec='pcm_s16le')\n",
    "# Close the video file to release resources\n",
    "video.close()"
   ]
  },
  {
   "cell_type": "code",
   "execution_count": 25,
   "metadata": {},
   "outputs": [],
   "source": [
    "import wave\n",
    "video = wave.open(\"output_audio.wav\", \"r\")"
   ]
  },
  {
   "cell_type": "code",
   "execution_count": 26,
   "metadata": {},
   "outputs": [],
   "source": [
    "import numpy as np\n",
    "video=video.readframes(-1)\n",
    "video=np.frombuffer(video,dtype=\"int16\")"
   ]
  },
  {
   "cell_type": "code",
   "execution_count": 27,
   "metadata": {},
   "outputs": [
    {
     "data": {
      "text/plain": [
       "'this is my family I love my family this is my neighbor I help my neighbor this is my teacher I respect my teacher these are my classmates I like my classmates these are my friends I love my friends are my classmates I like my classmates'"
      ]
     },
     "execution_count": 27,
     "metadata": {},
     "output_type": "execute_result"
    }
   ],
   "source": [
    "import speech_recognition as sr\n",
    "recognizer=sr.Recognizer()\n",
    "clean_video=sr.AudioFile(\"output_audio.wav\")\n",
    "with clean_video as source:\n",
    "    clean_video_audio=recognizer.record(source)\n",
    "recognizer.recognize_google(audio_data=clean_video_audio)"
   ]
  },
  {
   "cell_type": "code",
   "execution_count": 34,
   "metadata": {},
   "outputs": [
    {
     "name": "stdout",
     "output_type": "stream",
     "text": [
      "MoviePy - Writing audio in get_dressed.wav\n"
     ]
    },
    {
     "name": "stderr",
     "output_type": "stream",
     "text": [
      "                                                                      "
     ]
    },
    {
     "name": "stdout",
     "output_type": "stream",
     "text": [
      "MoviePy - Done.\n"
     ]
    },
    {
     "name": "stderr",
     "output_type": "stream",
     "text": [
      "\r"
     ]
    }
   ],
   "source": [
    "video1 = VideoFileClip(\"Get Dressed for the Day Song  The Singing Walrus.mp4\")\n",
    "# Extract the audio from the video\n",
    "audio = video1.audio\n",
    "# Save the audio as a WAV file\n",
    "audio.write_audiofile(\"get_dressed.wav\", codec='pcm_s16le')\n",
    "# Close the video file to release resources\n",
    "video1.close()"
   ]
  },
  {
   "cell_type": "code",
   "execution_count": 44,
   "metadata": {},
   "outputs": [],
   "source": [
    "from pydub import AudioSegment\n",
    "video1=AudioSegment.from_file(file=\"Get_Dressed.wav\",format=\"wav\")"
   ]
  },
  {
   "cell_type": "code",
   "execution_count": 45,
   "metadata": {},
   "outputs": [],
   "source": [
    "video1 = wave.open(\"Get_Dressed.wav\", \"r\")\n",
    "video1=video1.readframes(-1)\n",
    "video1=np.frombuffer(video1,dtype=\"int16\")"
   ]
  },
  {
   "cell_type": "code",
   "execution_count": 51,
   "metadata": {},
   "outputs": [
    {
     "data": {
      "text/plain": [
       "\"get ready get ready it's time to go get ready get ready from head to toe Sun wind rain or snow look outside and pick your clothes put on your shirt put on your shirt put on your pants hold on yourself and take your clothes off rain noise\""
      ]
     },
     "execution_count": 51,
     "metadata": {},
     "output_type": "execute_result"
    }
   ],
   "source": [
    "recognizer=sr.Recognizer()\n",
    "clean_video1=sr.AudioFile(\"Get_Dressed.wav\")\n",
    "with clean_video1 as source:\n",
    "    clean_video_audio1 = recognizer.record(source)\n",
    "recognizer.recognize_google(audio_data=clean_video_audio1)"
   ]
  },
  {
   "cell_type": "code",
   "execution_count": 57,
   "metadata": {},
   "outputs": [
    {
     "name": "stdout",
     "output_type": "stream",
     "text": [
      "MoviePy - Writing audio in hello_song.wav\n"
     ]
    },
    {
     "name": "stderr",
     "output_type": "stream",
     "text": [
      "                                                                      "
     ]
    },
    {
     "name": "stdout",
     "output_type": "stream",
     "text": [
      "MoviePy - Done.\n"
     ]
    },
    {
     "name": "stderr",
     "output_type": "stream",
     "text": [
      "\r"
     ]
    }
   ],
   "source": [
    "video2 = VideoFileClip(\"Hello Song for Kids  Greeting Song for Kids  The Singing Walrus.mp4\")\n",
    "# Extract the audio from the video\n",
    "audio = video2.audio\n",
    "# Save the audio as a WAV file\n",
    "audio.write_audiofile(\"hello_song.wav\", codec='pcm_s16le')\n",
    "# Close the video file to release resources\n",
    "video2.close()"
   ]
  },
  {
   "cell_type": "code",
   "execution_count": 58,
   "metadata": {},
   "outputs": [],
   "source": [
    "video2 = wave.open(\"hello_song.wav\", \"r\")\n",
    "video2=video2.readframes(-1)\n",
    "video2=np.frombuffer(video2,dtype=\"int16\")"
   ]
  },
  {
   "cell_type": "code",
   "execution_count": 59,
   "metadata": {},
   "outputs": [
    {
     "data": {
      "text/plain": [
       "'everyday everyday everyday everyday everyday everyday and we all say hello hello'"
      ]
     },
     "execution_count": 59,
     "metadata": {},
     "output_type": "execute_result"
    }
   ],
   "source": [
    "recognizer=sr.Recognizer()\n",
    "clean_video=sr.AudioFile(\"Hello_Song.wav\")\n",
    "with clean_video as source:\n",
    "    clean_video_audio=recognizer.record(source)\n",
    "recognizer.recognize_google(audio_data=clean_video_audio)"
   ]
  },
  {
   "cell_type": "code",
   "execution_count": 56,
   "metadata": {},
   "outputs": [
    {
     "name": "stdout",
     "output_type": "stream",
     "text": [
      "MoviePy - Writing audio in hello_song.wav\n"
     ]
    },
    {
     "name": "stderr",
     "output_type": "stream",
     "text": [
      "                                                                      \r"
     ]
    },
    {
     "name": "stdout",
     "output_type": "stream",
     "text": [
      "MoviePy - Done.\n",
      "Processing chunk 0 from 128.631 to 257.262 seconds\n",
      "Chunk 0 recognized as: everyday everyday everyday everyday everyday I go to school I go to school I meet my friend I need my friend and we all say hello hello hello hello\n"
     ]
    }
   ],
   "source": [
    "import speech_recognition as sr\n",
    "import os\n",
    "import numpy as np\n",
    "from pydub import AudioSegment\n",
    "from pydub.silence import split_on_silence\n",
    "from moviepy.editor import VideoFileClip\n",
    "import wave\n",
    "\n",
    "def extract_audio_from_video(video_path, audio_path=\"audio.wav\"):\n",
    "    # Load the video file\n",
    "    video = VideoFileClip(video_path)\n",
    "    # Extract the audio\n",
    "    audio = video.audio\n",
    "    # Save the audio as a WAV file\n",
    "    audio.write_audiofile(audio_path, codec='pcm_s16le')\n",
    "    # Close the video file to release resources\n",
    "    video.close()\n",
    "\n",
    "def silence_based_conversion(path):\n",
    "    song = AudioSegment.from_wav(path)\n",
    "\n",
    "    with open(\"recognized.txt\", \"w+\") as fh:\n",
    "        chunks = split_on_silence(song,\n",
    "                                  min_silence_len=1000,  # Increased silence length\n",
    "                                  silence_thresh=-30)  # Adjusted silence threshold\n",
    "\n",
    "        os.makedirs('audio_chunks', exist_ok=True)\n",
    "\n",
    "        for i, chunk in enumerate(chunks):\n",
    "            audio_chunk = AudioSegment.silent(duration=10) + chunk + AudioSegment.silent(duration=10)\n",
    "\n",
    "            chunk_filename = f\"./audio_chunks/chunk{i}.wav\"\n",
    "            audio_chunk.export(chunk_filename, bitrate='192k', format=\"wav\")\n",
    "\n",
    "            print(f\"Processing chunk {i} with duration {len(chunk) / 1000.0} seconds\")\n",
    "\n",
    "            r = sr.Recognizer()\n",
    "            with sr.AudioFile(chunk_filename) as source:\n",
    "                r.adjust_for_ambient_noise(source)\n",
    "                audio_listened = r.listen(source)\n",
    "\n",
    "            try:\n",
    "                rec = r.recognize_google(audio_listened)\n",
    "                fh.write(rec + \". \")\n",
    "                print(f\"Chunk {i} recognized as: {rec}\")\n",
    "            except sr.UnknownValueError:\n",
    "                print(f\"Chunk {i}: Could not understand audio\")\n",
    "            except sr.RequestError as e:\n",
    "                print(f\"Chunk {i}: Could not request results. Check your internet connection.\")\n",
    "\n",
    "\n",
    "\n",
    "if __name__ == '__main__':\n",
    "    video_path = \"Hello Song for Kids  Greeting Song for Kids  The Singing Walrus.mp4\"\n",
    "    audio_path = \"hello_song.wav\"\n",
    "    \n",
    "    # Extract audio from the video\n",
    "    extract_audio_from_video(video_path, audio_path)\n",
    "    \n",
    "    # Perform silence-based conversion on the extracted audio\n",
    "    silence_based_conversion(audio_path)\n"
   ]
  },
  {
   "cell_type": "code",
   "execution_count": 60,
   "metadata": {},
   "outputs": [
    {
     "name": "stdout",
     "output_type": "stream",
     "text": [
      "MoviePy - Writing audio in get_dressed.wav\n"
     ]
    },
    {
     "name": "stderr",
     "output_type": "stream",
     "text": [
      "                                                                      \r"
     ]
    },
    {
     "name": "stdout",
     "output_type": "stream",
     "text": [
      "MoviePy - Done.\n",
      "Processing chunk 0 with duration 3.292 seconds\n",
      "Chunk 0: Could not understand audio\n",
      "Processing chunk 1 with duration 100.53 seconds\n",
      "Chunk 1 recognized as: get ready get ready it's time to go get ready get ready from head to toe Sun wind rain or snow look outside and pick your clothes put on your shirt put on your shirt put on your pants put on yourself and take your clothes off rain noise\n"
     ]
    }
   ],
   "source": [
    "import speech_recognition as sr\n",
    "import os\n",
    "import numpy as np\n",
    "from pydub import AudioSegment\n",
    "from pydub.silence import split_on_silence\n",
    "from moviepy.editor import VideoFileClip\n",
    "import wave\n",
    "\n",
    "def extract_audio_from_video(video_path, audio_path=\"audio.wav\"):\n",
    "    # Load the video file\n",
    "    video = VideoFileClip(video_path)\n",
    "    # Extract the audio\n",
    "    audio = video.audio\n",
    "    # Save the audio as a WAV file\n",
    "    audio.write_audiofile(audio_path, codec='pcm_s16le')\n",
    "    # Close the video file to release resources\n",
    "    video.close()\n",
    "\n",
    "def silence_based_conversion(path):\n",
    "    song = AudioSegment.from_wav(path)\n",
    "\n",
    "    with open(\"recognized.txt\", \"w+\") as fh:\n",
    "        chunks = split_on_silence(song,\n",
    "                                  min_silence_len=1000,  # Increased silence length\n",
    "                                  silence_thresh=-30)  # Adjusted silence threshold\n",
    "\n",
    "        os.makedirs('audio_chunks', exist_ok=True)\n",
    "\n",
    "        for i, chunk in enumerate(chunks):\n",
    "            audio_chunk = AudioSegment.silent(duration=10) + chunk + AudioSegment.silent(duration=10)\n",
    "\n",
    "            chunk_filename = f\"./audio_chunks/chunk{i}.wav\"\n",
    "            audio_chunk.export(chunk_filename, bitrate='192k', format=\"wav\")\n",
    "\n",
    "            print(f\"Processing chunk {i} with duration {len(chunk) / 1000.0} seconds\")\n",
    "\n",
    "            r = sr.Recognizer()\n",
    "            with sr.AudioFile(chunk_filename) as source:\n",
    "                r.adjust_for_ambient_noise(source)\n",
    "                audio_listened = r.listen(source)\n",
    "\n",
    "            try:\n",
    "                rec = r.recognize_google(audio_listened)\n",
    "                fh.write(rec + \". \")\n",
    "                print(f\"Chunk {i} recognized as: {rec}\")\n",
    "            except sr.UnknownValueError:\n",
    "                print(f\"Chunk {i}: Could not understand audio\")\n",
    "            except sr.RequestError as e:\n",
    "                print(f\"Chunk {i}: Could not request results. Check your internet connection.\")\n",
    "\n",
    "\n",
    "\n",
    "if __name__ == '__main__':\n",
    "    video_path = \"Get Dressed for the Day Song  The Singing Walrus.mp4\"\n",
    "    audio_path = \"get_dressed.wav\"\n",
    "    \n",
    "    # Extract audio from the video\n",
    "    extract_audio_from_video(video_path, audio_path)\n",
    "    \n",
    "    # Perform silence-based conversion on the extracted audio\n",
    "    silence_based_conversion(audio_path)"
   ]
  },
  {
   "cell_type": "code",
   "execution_count": null,
   "metadata": {},
   "outputs": [],
   "source": []
  }
 ],
 "metadata": {
  "kernelspec": {
   "display_name": "pfa",
   "language": "python",
   "name": "python3"
  },
  "language_info": {
   "codemirror_mode": {
    "name": "ipython",
    "version": 3
   },
   "file_extension": ".py",
   "mimetype": "text/x-python",
   "name": "python",
   "nbconvert_exporter": "python",
   "pygments_lexer": "ipython3",
   "version": "3.11.8"
  }
 },
 "nbformat": 4,
 "nbformat_minor": 2
}
